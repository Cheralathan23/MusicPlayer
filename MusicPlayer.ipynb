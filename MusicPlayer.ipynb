{
 "cells": [
  {
   "cell_type": "code",
   "execution_count": 5,
   "id": "1501b63c-e439-4b61-8487-949d5b132f48",
   "metadata": {},
   "outputs": [
    {
     "name": "stdout",
     "output_type": "stream",
     "text": [
      "\n",
      "Music Player Menu:\n",
      "1. Add Song\n",
      "2. Play Song\n",
      "3. Pause Song\n",
      "4. Resume Song\n",
      "5. Restart Song\n",
      "6. Forward | Backward\n",
      "7. Stop Song\n",
      "8. Set Volume\n",
      "9. Exit\n"
     ]
    },
    {
     "name": "stdin",
     "output_type": "stream",
     "text": [
      "Enter your choice:  1\n",
      "Enter song title:  Mannipaaya\n",
      "Enter song artist:  ARR\n",
      "Enter song file path:  D:\\Others\\Downloads\\Music\\Mannipaaya.mp3\n"
     ]
    },
    {
     "name": "stdout",
     "output_type": "stream",
     "text": [
      "\n",
      "Song 'Mannipaaya' is added and ready to Play.\n",
      "\n",
      "Music Player Menu:\n",
      "1. Add Song\n",
      "2. Play Song\n",
      "3. Pause Song\n",
      "4. Resume Song\n",
      "5. Restart Song\n",
      "6. Forward | Backward\n",
      "7. Stop Song\n",
      "8. Set Volume\n",
      "9. Exit\n"
     ]
    },
    {
     "name": "stdin",
     "output_type": "stream",
     "text": [
      "Enter your choice:  2\n",
      "Enter Song title to play:  Mannipaaya\n"
     ]
    },
    {
     "name": "stdout",
     "output_type": "stream",
     "text": [
      "No such Media found in the directory!\n",
      "\n",
      "Music Player Menu:\n",
      "1. Add Song\n",
      "2. Play Song\n",
      "3. Pause Song\n",
      "4. Resume Song\n",
      "5. Restart Song\n",
      "6. Forward | Backward\n",
      "7. Stop Song\n",
      "8. Set Volume\n",
      "9. Exit\n"
     ]
    },
    {
     "name": "stdin",
     "output_type": "stream",
     "text": [
      "Enter your choice:  Mannipaaya\n"
     ]
    },
    {
     "name": "stdout",
     "output_type": "stream",
     "text": [
      "Invalid choice!\n",
      "\n",
      "Music Player Menu:\n",
      "1. Add Song\n",
      "2. Play Song\n",
      "3. Pause Song\n",
      "4. Resume Song\n",
      "5. Restart Song\n",
      "6. Forward | Backward\n",
      "7. Stop Song\n",
      "8. Set Volume\n",
      "9. Exit\n"
     ]
    },
    {
     "name": "stdin",
     "output_type": "stream",
     "text": [
      "Enter your choice:  1\n",
      "Enter song title:  Mannipaaya\n",
      "Enter song artist:  A.R.Rahman\n",
      "Enter song file path:  D:\\Others\\Downloads\\Music\\VTV\\Mannipaaya.mp3\n"
     ]
    },
    {
     "name": "stdout",
     "output_type": "stream",
     "text": [
      "\n",
      "Song 'Mannipaaya' is added and ready to Play.\n",
      "\n",
      "Music Player Menu:\n",
      "1. Add Song\n",
      "2. Play Song\n",
      "3. Pause Song\n",
      "4. Resume Song\n",
      "5. Restart Song\n",
      "6. Forward | Backward\n",
      "7. Stop Song\n",
      "8. Set Volume\n",
      "9. Exit\n"
     ]
    },
    {
     "name": "stdin",
     "output_type": "stream",
     "text": [
      "Enter your choice:  2\n",
      "Enter Song title to play:  Mannipaaya\n"
     ]
    },
    {
     "name": "stdout",
     "output_type": "stream",
     "text": [
      "Now Playing...'Mannipaaya.mp3' composed by 'A.R.Rahman'\n",
      "\n",
      "Music Player Menu:\n",
      "1. Add Song\n",
      "2. Play Song\n",
      "3. Pause Song\n",
      "4. Resume Song\n",
      "5. Restart Song\n",
      "6. Forward | Backward\n",
      "7. Stop Song\n",
      "8. Set Volume\n",
      "9. Exit\n"
     ]
    },
    {
     "name": "stdin",
     "output_type": "stream",
     "text": [
      "Enter your choice:  3\n"
     ]
    },
    {
     "name": "stdout",
     "output_type": "stream",
     "text": [
      "\n",
      "'Mannipaaya.mp3' is Paused.\n",
      "\n",
      "Music Player Menu:\n",
      "1. Add Song\n",
      "2. Play Song\n",
      "3. Pause Song\n",
      "4. Resume Song\n",
      "5. Restart Song\n",
      "6. Forward | Backward\n",
      "7. Stop Song\n",
      "8. Set Volume\n",
      "9. Exit\n"
     ]
    },
    {
     "name": "stdin",
     "output_type": "stream",
     "text": [
      "Enter your choice:  4\n"
     ]
    },
    {
     "name": "stdout",
     "output_type": "stream",
     "text": [
      "\n",
      "Now Playing...'Mannipaaya.mp3' composed by 'A.R.Rahman'\n",
      "\n",
      "Music Player Menu:\n",
      "1. Add Song\n",
      "2. Play Song\n",
      "3. Pause Song\n",
      "4. Resume Song\n",
      "5. Restart Song\n",
      "6. Forward | Backward\n",
      "7. Stop Song\n",
      "8. Set Volume\n",
      "9. Exit\n"
     ]
    },
    {
     "name": "stdin",
     "output_type": "stream",
     "text": [
      "Enter your choice:  5\n"
     ]
    },
    {
     "name": "stdout",
     "output_type": "stream",
     "text": [
      "'Mannipaaya.mp3' is restarted.\n",
      "\n",
      "Music Player Menu:\n",
      "1. Add Song\n",
      "2. Play Song\n",
      "3. Pause Song\n",
      "4. Resume Song\n",
      "5. Restart Song\n",
      "6. Forward | Backward\n",
      "7. Stop Song\n",
      "8. Set Volume\n",
      "9. Exit\n"
     ]
    },
    {
     "name": "stdin",
     "output_type": "stream",
     "text": [
      "Enter your choice:  6\n",
      "Set time in seconds to skip: Sixty\n"
     ]
    },
    {
     "name": "stdout",
     "output_type": "stream",
     "text": [
      "Please Enter in Valid Format.\n",
      "\n",
      "Music Player Menu:\n",
      "1. Add Song\n",
      "2. Play Song\n",
      "3. Pause Song\n",
      "4. Resume Song\n",
      "5. Restart Song\n",
      "6. Forward | Backward\n",
      "7. Stop Song\n",
      "8. Set Volume\n",
      "9. Exit\n"
     ]
    },
    {
     "name": "stdin",
     "output_type": "stream",
     "text": [
      "Enter your choice:  6\n",
      "Set time in seconds to skip: 180\n"
     ]
    },
    {
     "name": "stdout",
     "output_type": "stream",
     "text": [
      "\n",
      "Playback Skipped to 180 seconds.\n",
      "\n",
      "Music Player Menu:\n",
      "1. Add Song\n",
      "2. Play Song\n",
      "3. Pause Song\n",
      "4. Resume Song\n",
      "5. Restart Song\n",
      "6. Forward | Backward\n",
      "7. Stop Song\n",
      "8. Set Volume\n",
      "9. Exit\n"
     ]
    },
    {
     "name": "stdin",
     "output_type": "stream",
     "text": [
      "Enter your choice:  8\n",
      "Enter volume level (0.0 - 1.0):  five\n"
     ]
    },
    {
     "name": "stdout",
     "output_type": "stream",
     "text": [
      "Please Enter in Valid Format.\n",
      "\n",
      "Music Player Menu:\n",
      "1. Add Song\n",
      "2. Play Song\n",
      "3. Pause Song\n",
      "4. Resume Song\n",
      "5. Restart Song\n",
      "6. Forward | Backward\n",
      "7. Stop Song\n",
      "8. Set Volume\n",
      "9. Exit\n"
     ]
    },
    {
     "name": "stdin",
     "output_type": "stream",
     "text": [
      "Enter your choice:  8\n",
      "Enter volume level (0.0 - 1.0):  0.5\n"
     ]
    },
    {
     "name": "stdout",
     "output_type": "stream",
     "text": [
      "\n",
      "Volume is set to 0.5\n",
      "\n",
      "Music Player Menu:\n",
      "1. Add Song\n",
      "2. Play Song\n",
      "3. Pause Song\n",
      "4. Resume Song\n",
      "5. Restart Song\n",
      "6. Forward | Backward\n",
      "7. Stop Song\n",
      "8. Set Volume\n",
      "9. Exit\n"
     ]
    },
    {
     "name": "stdin",
     "output_type": "stream",
     "text": [
      "Enter your choice:  7\n"
     ]
    },
    {
     "name": "stdout",
     "output_type": "stream",
     "text": [
      "\n",
      "'Mannipaaya.mp3' stopped playing.\n",
      "\n",
      "Music Player Menu:\n",
      "1. Add Song\n",
      "2. Play Song\n",
      "3. Pause Song\n",
      "4. Resume Song\n",
      "5. Restart Song\n",
      "6. Forward | Backward\n",
      "7. Stop Song\n",
      "8. Set Volume\n",
      "9. Exit\n"
     ]
    },
    {
     "name": "stdin",
     "output_type": "stream",
     "text": [
      "Enter your choice:  9\n"
     ]
    },
    {
     "name": "stdout",
     "output_type": "stream",
     "text": [
      "Music Player Closed!...\n"
     ]
    }
   ],
   "source": [
    "import pygame\n",
    "\n",
    "class Song():\n",
    "    def __init__(self, title, file_path): # title, file path parameters passing in class-Song.\n",
    "        self.title = title\n",
    "        self.file_path = file_path\n",
    "\n",
    "class Media(Song): # child class of Song class it can inherit the parent class arttibutes and methods.\n",
    "    def __init__(self, title, artist, file_path): \n",
    "        super().__init__(title, file_path) # super() inherits parent class title and file path.\n",
    "        self.artist = artist\n",
    "\n",
    "    def play(self):\n",
    "        pygame.mixer.music.load(self.file_path) # in-built function => loads the file from the local storage path.\n",
    "        pygame.mixer.music.play() # in-built funtcion => Start the playback of the music stream.\n",
    "\n",
    "class MusicPlayer:\n",
    "    def __init__(self):\n",
    "        self.song_list = [] # by default, empty list.\n",
    "        self.current_song = None # by default there is no music to play.\n",
    "        self.volume = 0.5 # by default the volume of musicplayer is set to 0.5 of 1.0.\n",
    "        pygame.init()\n",
    "\n",
    "    def add_song(self, song): \n",
    "        self.song_list.append(song) # Title of song, Name of Author and File path will get append to empty list ( songlist ).\n",
    "\n",
    "    def play_song(self, song):\n",
    "        self.current_song = song # temporarily holds the arttributes of current playing song.\n",
    "        song.play() # recursive function executes the play method declared in Media class.\n",
    "\n",
    "    def pause_song(self):\n",
    "        pygame.mixer.music.pause() # in-built function temporarily stops the playing song.\n",
    "\n",
    "    def resume_song(self):\n",
    "        pygame.mixer.music.unpause() # in-built function continues the song from where it's stopped.\n",
    "\n",
    "    def restart_song(self):\n",
    "        pygame.mixer.music.rewind() # in-buit function starts from the begining of the song.\n",
    "\n",
    "    def set_pos(self,time):\n",
    "        self.time=time\n",
    "        pygame.mixer.music.set_pos(time) # in-built function jumps/skip to the respective input that act as seconds.\n",
    "\n",
    "    def stop_song(self):\n",
    "        pygame.mixer.music.stop() # in-built function teminates the currently playing song\n",
    "\n",
    "    def set_volume(self, volume):\n",
    "        self.volume = volume\n",
    "        pygame.mixer.music.set_volume(volume) # in-built function the volume of musicplayer can be set to 0.0 of 1.0.\n",
    "\n",
    "class PlayMusic(MusicPlayer,Media): # inherits the properties of MusicPlayer and Media classes.\n",
    "    \n",
    "    player = MusicPlayer() # Assigning MusicPlayer class to arttibute player.\n",
    "\n",
    "    while True: # by default condition of loop is True, so it executes the statements inside the loops.\n",
    "        print(\"\\nMusic Player Menu:\") # Displays as the Menu/Instruction of the Music Player.\n",
    "        print(\"1. Add Song\")\n",
    "        print(\"2. Play Song\")\n",
    "        print(\"3. Pause Song\")\n",
    "        print(\"4. Resume Song\")\n",
    "        print(\"5. Restart Song\")\n",
    "        print(\"6. Forward | Backward\")\n",
    "        print(\"7. Stop Song\")\n",
    "        print(\"8. Set Volume\")\n",
    "        print(\"9. Exit\")\n",
    "\n",
    "        choice = input(\"Enter your choice: \") # gets the input from the user ( 1 - 9 )\n",
    "\n",
    "        if choice == \"1\": # if the input is 1 enters the block of statement (tries to add the song).\n",
    "            title = input(\"Enter song title: \") # gets title of song.\n",
    "            artist = input(\"Enter song artist: \") # gets the Name of artist.\n",
    "            file_path = input(\"Enter song file path: \") # gets the file path\n",
    "            song = Media(title, artist, file_path) # calling the parameters of Media class and storing it to \"Song\" attribute.\n",
    "            player.add_song(song) # executes the add_song function.\n",
    "            print()\n",
    "            print(f\"Song '{title}' is added and ready to Play.\")\n",
    "        elif choice == \"2\":\n",
    "            song_title = input(\"Enter Song title to play: \") # gets title of song to play that exact song.\n",
    "            for i in player.song_list: \n",
    "                if i.title == song_title: # if input title matches the songlist tile enters play song method.\n",
    "                    if i.file_path != song.file_path: # checks the file path is valid or not\n",
    "                        player.play_song(song) # executes the play_song method.\n",
    "                        print(f\"Now Playing...'{song_title}.mp3' composed by '{artist}'\")\n",
    "                        break\n",
    "                    else: # if file path is not valid.\n",
    "                        print(\"No such Media found in the directory!\")\n",
    "                        break\n",
    "                else: # if the title of input is not matched to list of song(song_list).\n",
    "                    print(\"Media not Found\")\n",
    "            else:\n",
    "                print(\"Media not found!\") # if the title of input is not matched to list of song(song_list).\n",
    "        elif choice == \"3\": # if the input is 3 (tries to pause the song).\n",
    "            player.pause_song() # executes the pause_song method.\n",
    "            print()\n",
    "            print(f\"'{song_title}.mp3' is Paused.\")\n",
    "        elif choice == \"4\": # if the input is 4 (tries to resume the paused song).\n",
    "            player.resume_song() # executes the resume_song method.\n",
    "            print()\n",
    "            print(f\"Now Playing...'{song_title}.mp3' composed by '{artist}'\")\n",
    "        elif choice == \"5\": # if the input is 5 (tries to play the song from begining).\n",
    "            player.restart_song() # executes the restart_song method.\n",
    "            print(f\"'{song_title}.mp3' is restarted.\")\n",
    "        elif choice == \"6\":# # if the input is 6 (tries to skips the playback time of song).\n",
    "            try:\n",
    "                time=int(input(\"Set time in seconds to skip:\")) # gets input as integer (Time seconds).\n",
    "            except ValueError: # handles the ValueError (different datatypes as input).\n",
    "                print(\"Please Enter in Valid Format.\")\n",
    "                continue\n",
    "            player.set_pos(time) # executes the set_pos method\n",
    "            print()\n",
    "            print(f\"Playback Skipped to {time} seconds.\")\n",
    "        elif choice == \"7\": # if the input is 7 (tries to stop the song).\n",
    "            player.stop_song() # completely terminates the song.\n",
    "            print()\n",
    "            print(f\"'{song_title}.mp3' stopped playing.\")\n",
    "        elif choice == \"8\": # if the input is 8 (tries to set the volume for the song).\n",
    "            try:\n",
    "                volume = float(input(\"Enter volume level (0.0 - 1.0): \")) # gets float value, so it can set volume between the range of [0.0 to 1.0].\n",
    "            except ValueError: # handles the ValueError (different datatypes as input).\n",
    "                print(\"Please Enter in Valid Format.\")\n",
    "                continue\n",
    "            player.set_volume(volume) # executes the set_volume method.\n",
    "            print()\n",
    "            print(f\"Volume is set to {volume}\")\n",
    "        elif choice == \"9\": # if the input is 9 enters the block of statement (tries to exit the musicplayer).\n",
    "            print(\"Music Player Closed!...\")\n",
    "            break # breaks the loop\n",
    "        else: # if the given input not between [ 1 - 9 ]\n",
    "            print(\"Invalid choice!\")\n",
    "\n",
    "cheran=PlayMusic()"
   ]
  },
  {
   "cell_type": "code",
   "execution_count": null,
   "id": "48723f59-34a8-42a5-ac2d-ee6d8e078402",
   "metadata": {},
   "outputs": [],
   "source": []
  }
 ],
 "metadata": {
  "kernelspec": {
   "display_name": "Python 3 (ipykernel)",
   "language": "python",
   "name": "python3"
  },
  "language_info": {
   "codemirror_mode": {
    "name": "ipython",
    "version": 3
   },
   "file_extension": ".py",
   "mimetype": "text/x-python",
   "name": "python",
   "nbconvert_exporter": "python",
   "pygments_lexer": "ipython3",
   "version": "3.12.4"
  }
 },
 "nbformat": 4,
 "nbformat_minor": 5
}
